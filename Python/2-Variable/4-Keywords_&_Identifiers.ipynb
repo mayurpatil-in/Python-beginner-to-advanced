{
 "cells": [
  {
   "cell_type": "markdown",
   "id": "170ba1d8",
   "metadata": {},
   "source": [
    "## Keywords & Identifiers\n",
    "\n",
    "## Keywords\n",
    "- Keywords are  reserved words in python that have special meaning and purpose. \n",
    "- They cannot be used as variable names or for any other identifiers.\n",
    "\n",
    "## Identifiers\n",
    "- Identifiers are names given to entities like variable, function, classes etc.\n",
    "- They are used to identify these entities in the program\n",
    "\n",
    "Rules for creating identifiers\n",
    "1. Can contain letters, numbers and underscore\n",
    "2. cannot start with a number\n",
    "3. Cannot be a keyword\n",
    "4. Case-sensitive\n"
   ]
  },
  {
   "cell_type": "code",
   "execution_count": 3,
   "id": "15d47968",
   "metadata": {},
   "outputs": [
    {
     "name": "stdout",
     "output_type": "stream",
     "text": [
      "['False', 'None', 'True', 'and', 'as', 'assert', 'async', 'await', 'break', 'class', 'continue', 'def', 'del', 'elif', 'else', 'except', 'finally', 'for', 'from', 'global', 'if', 'import', 'in', 'is', 'lambda', 'nonlocal', 'not', 'or', 'pass', 'raise', 'return', 'try', 'while', 'with', 'yield']\n"
     ]
    }
   ],
   "source": [
    "import keyword\n",
    "print(keyword.kwlist)"
   ]
  },
  {
   "cell_type": "code",
   "execution_count": 4,
   "id": "62d790cb",
   "metadata": {},
   "outputs": [
    {
     "data": {
      "text/plain": [
       "35"
      ]
     },
     "execution_count": 4,
     "metadata": {},
     "output_type": "execute_result"
    }
   ],
   "source": [
    "len(keyword.kwlist)"
   ]
  },
  {
   "cell_type": "markdown",
   "id": "e4e149bd",
   "metadata": {},
   "source": [
    "## Identifiers"
   ]
  },
  {
   "cell_type": "code",
   "execution_count": 5,
   "id": "c5a10552",
   "metadata": {},
   "outputs": [
    {
     "ename": "SyntaxError",
     "evalue": "invalid syntax (3039934606.py, line 1)",
     "output_type": "error",
     "traceback": [
      "\u001b[1;36m  Cell \u001b[1;32mIn[5], line 1\u001b[1;36m\u001b[0m\n\u001b[1;33m    for = 5\u001b[0m\n\u001b[1;37m        ^\u001b[0m\n\u001b[1;31mSyntaxError\u001b[0m\u001b[1;31m:\u001b[0m invalid syntax\n"
     ]
    }
   ],
   "source": [
    "for = 5"
   ]
  },
  {
   "cell_type": "code",
   "execution_count": 6,
   "id": "0c7a0e92",
   "metadata": {},
   "outputs": [
    {
     "ename": "SyntaxError",
     "evalue": "invalid decimal literal (3113222035.py, line 1)",
     "output_type": "error",
     "traceback": [
      "\u001b[1;36m  Cell \u001b[1;32mIn[6], line 1\u001b[1;36m\u001b[0m\n\u001b[1;33m    1hello = 5\u001b[0m\n\u001b[1;37m    ^\u001b[0m\n\u001b[1;31mSyntaxError\u001b[0m\u001b[1;31m:\u001b[0m invalid decimal literal\n"
     ]
    }
   ],
   "source": [
    "1hello = 5"
   ]
  },
  {
   "cell_type": "code",
   "execution_count": 7,
   "id": "de4850cb",
   "metadata": {},
   "outputs": [],
   "source": [
    "# 1. Variable Names:\n",
    "student_name = \"John Doe\"\n",
    "age = 20\n",
    "_private_var = 200"
   ]
  },
  {
   "cell_type": "code",
   "execution_count": 14,
   "id": "43381d82",
   "metadata": {},
   "outputs": [
    {
     "name": "stdout",
     "output_type": "stream",
     "text": [
      "50\n"
     ]
    }
   ],
   "source": [
    "# 2. Function Names:\n",
    "def calculate_area(length, width):\n",
    "    return length * width\n",
    "print(calculate_area(5, 10))\n",
    "    "
   ]
  },
  {
   "cell_type": "code",
   "execution_count": 11,
   "id": "5c4170fe",
   "metadata": {},
   "outputs": [],
   "source": [
    "# 3. Class Names:\n",
    "class StudentRecord:\n",
    "    def __init__(self,name,age):\n",
    "        self.name = name\n",
    "        self.age = age\n",
    "    \n"
   ]
  },
  {
   "cell_type": "code",
   "execution_count": 12,
   "id": "1715bdc6",
   "metadata": {},
   "outputs": [],
   "source": [
    "def display(self):\n",
    "        print(f\"Name: {self.name}, Age: {self.age}\")"
   ]
  },
  {
   "cell_type": "code",
   "execution_count": null,
   "id": "a7c368d9",
   "metadata": {},
   "outputs": [],
   "source": []
  }
 ],
 "metadata": {
  "kernelspec": {
   "display_name": "dsa",
   "language": "python",
   "name": "python3"
  },
  "language_info": {
   "codemirror_mode": {
    "name": "ipython",
    "version": 3
   },
   "file_extension": ".py",
   "mimetype": "text/x-python",
   "name": "python",
   "nbconvert_exporter": "python",
   "pygments_lexer": "ipython3",
   "version": "3.12.7"
  }
 },
 "nbformat": 4,
 "nbformat_minor": 5
}
