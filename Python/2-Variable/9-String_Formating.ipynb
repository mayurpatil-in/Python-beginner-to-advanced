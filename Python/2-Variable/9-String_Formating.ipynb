{
 "cells": [
  {
   "cell_type": "code",
   "execution_count": 3,
   "id": "7fd71848",
   "metadata": {},
   "outputs": [],
   "source": [
    "name = \"mayur\"\n",
    "age = 22\n",
    "city = \"pune\""
   ]
  },
  {
   "cell_type": "code",
   "execution_count": 4,
   "id": "71246895",
   "metadata": {},
   "outputs": [
    {
     "name": "stdout",
     "output_type": "stream",
     "text": [
      "my name is mayur and my age is 22 and my city is pune\n"
     ]
    }
   ],
   "source": [
    "print(\"my name is {} and my age is {} and my city is {}\".format(name, age, city))"
   ]
  },
  {
   "cell_type": "code",
   "execution_count": 5,
   "id": "11faeaf7",
   "metadata": {},
   "outputs": [
    {
     "name": "stdout",
     "output_type": "stream",
     "text": [
      "my name is mayur and my age is 22 and my city is pune\n"
     ]
    }
   ],
   "source": [
    "print(f\"my name is {name} and my age is {age} and my city is {city}\")"
   ]
  },
  {
   "cell_type": "code",
   "execution_count": null,
   "id": "55ab866e",
   "metadata": {},
   "outputs": [],
   "source": []
  }
 ],
 "metadata": {
  "kernelspec": {
   "display_name": "dsa",
   "language": "python",
   "name": "python3"
  },
  "language_info": {
   "codemirror_mode": {
    "name": "ipython",
    "version": 3
   },
   "file_extension": ".py",
   "mimetype": "text/x-python",
   "name": "python",
   "nbconvert_exporter": "python",
   "pygments_lexer": "ipython3",
   "version": "3.12.7"
  }
 },
 "nbformat": 4,
 "nbformat_minor": 5
}
