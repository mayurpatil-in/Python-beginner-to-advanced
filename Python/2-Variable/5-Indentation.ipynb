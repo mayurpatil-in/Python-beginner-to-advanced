{
 "cells": [
  {
   "cell_type": "markdown",
   "id": "6f46cba3",
   "metadata": {},
   "source": [
    "## Indentation \n"
   ]
  },
  {
   "cell_type": "code",
   "execution_count": 1,
   "id": "531e5cfc",
   "metadata": {},
   "outputs": [],
   "source": [
    "a=3\n",
    "b=6\n",
    "c=9"
   ]
  },
  {
   "cell_type": "code",
   "execution_count": null,
   "id": "27305d25",
   "metadata": {},
   "outputs": [
    {
     "name": "stdout",
     "output_type": "stream",
     "text": [
      "3\n",
      "6\n",
      "0\n",
      "1\n",
      "2\n",
      "3\n",
      "4\n",
      "9\n"
     ]
    }
   ],
   "source": [
    "print(a)\n",
    "print(b)\n",
    "for i in range(5): # Block of code\n",
    "    print(i)\n",
    "print(c)"
   ]
  },
  {
   "cell_type": "code",
   "execution_count": 3,
   "id": "0e94150e",
   "metadata": {},
   "outputs": [
    {
     "name": "stdout",
     "output_type": "stream",
     "text": [
      "a is 3\n"
     ]
    }
   ],
   "source": [
    "if a == 3:\n",
    "    print(\"a is 3\")\n",
    "else:\n",
    "    print(\"a is not 3\")\n"
   ]
  },
  {
   "cell_type": "code",
   "execution_count": 4,
   "id": "8f85963e",
   "metadata": {},
   "outputs": [],
   "source": [
    "def fun():\n",
    "    print(\"hello\")"
   ]
  },
  {
   "cell_type": "code",
   "execution_count": 5,
   "id": "1a03d580",
   "metadata": {},
   "outputs": [
    {
     "name": "stdout",
     "output_type": "stream",
     "text": [
      "hello\n"
     ]
    }
   ],
   "source": [
    "fun()"
   ]
  },
  {
   "cell_type": "code",
   "execution_count": null,
   "id": "bb7317ea",
   "metadata": {},
   "outputs": [],
   "source": []
  }
 ],
 "metadata": {
  "kernelspec": {
   "display_name": "dsa",
   "language": "python",
   "name": "python3"
  },
  "language_info": {
   "codemirror_mode": {
    "name": "ipython",
    "version": 3
   },
   "file_extension": ".py",
   "mimetype": "text/x-python",
   "name": "python",
   "nbconvert_exporter": "python",
   "pygments_lexer": "ipython3",
   "version": "3.12.7"
  }
 },
 "nbformat": 4,
 "nbformat_minor": 5
}
