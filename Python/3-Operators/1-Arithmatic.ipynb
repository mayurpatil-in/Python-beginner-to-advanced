{
 "cells": [
  {
   "cell_type": "markdown",
   "id": "c5f3d5cc",
   "metadata": {},
   "source": [
    "## Operators\n",
    "- 1.Mathematical Calculation -> Arithmatic Operators\n",
    "- 2.Variable Based Operation -> Assignment Operators\n",
    "- 3.Decision realated Operation -> Logical Operators\n",
    "- 4.Comparision -> Comparsion Operators\n",
    "- 5.Binary Operation -> Bitwise Opeartors\n",
    "- 6.Memory Related -> Identity Operators\n",
    "- 7.Presence / Absence Operation -> Membership Operators"
   ]
  },
  {
   "cell_type": "markdown",
   "id": "7d18551d",
   "metadata": {},
   "source": [
    "### Arithmatic Operators"
   ]
  },
  {
   "cell_type": "code",
   "execution_count": 2,
   "id": "5e8a9b34",
   "metadata": {},
   "outputs": [
    {
     "name": "stdout",
     "output_type": "stream",
     "text": [
      "Addition: 5 + 3 = 8\n"
     ]
    }
   ],
   "source": [
    "x = 5 + 3\n",
    "print(f\"Addition: 5 + 3 = {x}\")"
   ]
  },
  {
   "cell_type": "code",
   "execution_count": 5,
   "id": "23612440",
   "metadata": {},
   "outputs": [
    {
     "name": "stdout",
     "output_type": "stream",
     "text": [
      "Subtraction: 10 - 4 = 6\n"
     ]
    }
   ],
   "source": [
    "y = 10 - 4\n",
    "print(f\"Subtraction: 10 - 4 = {y}\")"
   ]
  },
  {
   "cell_type": "code",
   "execution_count": 6,
   "id": "71d9b319",
   "metadata": {},
   "outputs": [
    {
     "name": "stdout",
     "output_type": "stream",
     "text": [
      "Multiplication: 6 * 7 = 42\n"
     ]
    }
   ],
   "source": [
    "z = 6 * 7\n",
    "print(f\"Multiplication: 6 * 7 = {z}\")"
   ]
  },
  {
   "cell_type": "code",
   "execution_count": 7,
   "id": "dee8bf06",
   "metadata": {},
   "outputs": [
    {
     "name": "stdout",
     "output_type": "stream",
     "text": [
      "Division: 8 / 2 = 4.0\n"
     ]
    }
   ],
   "source": [
    "a = 8 / 2\n",
    "print(f\"Division: 8 / 2 = {a}\")\n"
   ]
  },
  {
   "cell_type": "code",
   "execution_count": 8,
   "id": "f8f328f7",
   "metadata": {},
   "outputs": [
    {
     "name": "stdout",
     "output_type": "stream",
     "text": [
      "Floor Division: 17 // 5 = 3\n"
     ]
    }
   ],
   "source": [
    "b = 17 // 5\n",
    "print(f\"Floor Division: 17 // 5 = {b}\")"
   ]
  },
  {
   "cell_type": "code",
   "execution_count": 9,
   "id": "9af6ca6a",
   "metadata": {},
   "outputs": [
    {
     "name": "stdout",
     "output_type": "stream",
     "text": [
      "Modulus: 17 % 5 = 2\n"
     ]
    }
   ],
   "source": [
    "c = 17 % 5\n",
    "print(f\"Modulus: 17 % 5 = {c}\")"
   ]
  },
  {
   "cell_type": "code",
   "execution_count": 10,
   "id": "119a77e3",
   "metadata": {},
   "outputs": [
    {
     "name": "stdout",
     "output_type": "stream",
     "text": [
      "Exponentiation: 2 ** 3 = 8\n"
     ]
    }
   ],
   "source": [
    "d = 2 ** 3\n",
    "print(f\"Exponentiation: 2 ** 3 = {d}\")"
   ]
  },
  {
   "cell_type": "code",
   "execution_count": null,
   "id": "7a525ce6",
   "metadata": {},
   "outputs": [],
   "source": []
  }
 ],
 "metadata": {
  "kernelspec": {
   "display_name": "dsa",
   "language": "python",
   "name": "python3"
  },
  "language_info": {
   "codemirror_mode": {
    "name": "ipython",
    "version": 3
   },
   "file_extension": ".py",
   "mimetype": "text/x-python",
   "name": "python",
   "nbconvert_exporter": "python",
   "pygments_lexer": "ipython3",
   "version": "3.12.7"
  }
 },
 "nbformat": 4,
 "nbformat_minor": 5
}
