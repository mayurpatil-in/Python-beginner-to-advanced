{
 "cells": [
  {
   "cell_type": "code",
   "execution_count": 1,
   "id": "dd4818b7",
   "metadata": {},
   "outputs": [
    {
     "name": "stdout",
     "output_type": "stream",
     "text": [
      "Welcome\n"
     ]
    }
   ],
   "source": [
    "print(\"Welcome\")"
   ]
  },
  {
   "cell_type": "code",
   "execution_count": 1,
   "id": "5dd9e02c",
   "metadata": {},
   "outputs": [
    {
     "name": "stdout",
     "output_type": "stream",
     "text": [
      "This is a simple script to demonstrate the use of print statements.\n"
     ]
    }
   ],
   "source": [
    "print(\"This is a simple script to demonstrate the use of print statements.\")"
   ]
  },
  {
   "cell_type": "code",
   "execution_count": 1,
   "id": "b4e0597d",
   "metadata": {},
   "outputs": [
    {
     "name": "stdout",
     "output_type": "stream",
     "text": [
      "You can use print to display messages, variables, or any other information you want to show.\n"
     ]
    }
   ],
   "source": [
    "print(\"You can use print to display messages, variables, or any other information you want to show.\")"
   ]
  },
  {
   "cell_type": "code",
   "execution_count": null,
   "id": "3feeb00c",
   "metadata": {},
   "outputs": [],
   "source": [
    "print(\"welcome\")"
   ]
  }
 ],
 "metadata": {
  "kernelspec": {
   "display_name": "dsa",
   "language": "python",
   "name": "python3"
  },
  "language_info": {
   "codemirror_mode": {
    "name": "ipython",
    "version": 3
   },
   "file_extension": ".py",
   "mimetype": "text/x-python",
   "name": "python",
   "nbconvert_exporter": "python",
   "pygments_lexer": "ipython3",
   "version": "3.12.7"
  }
 },
 "nbformat": 4,
 "nbformat_minor": 5
}
