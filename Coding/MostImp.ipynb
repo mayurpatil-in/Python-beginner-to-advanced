{
 "cells": [
  {
   "cell_type": "markdown",
   "id": "30a805fc",
   "metadata": {},
   "source": [
    "What is Palindrome?\n",
    "- A palindrome is any word or number which remains same when reversed.\n",
    "- that reads the same both in backword as well as in forword\n",
    "\n",
    "e.g: Reverse of word \"madam\" is same as forword\n",
    "- Word \"madam\" is palindrome"
   ]
  },
  {
   "cell_type": "code",
   "execution_count": 2,
   "id": "7aae9e11",
   "metadata": {},
   "outputs": [
    {
     "name": "stdout",
     "output_type": "stream",
     "text": [
      "Given String is Palindrome\n"
     ]
    }
   ],
   "source": [
    "user_input = input(\"Enter a word: \")\n",
    "\n",
    "reverse_string = user_input[::-1]\n",
    "if(user_input == reverse_string):\n",
    "    print(\"Given String is Palindrome\")\n",
    "else:\n",
    "    print(\"It is not Palindrome\")"
   ]
  },
  {
   "cell_type": "markdown",
   "id": "614da67a",
   "metadata": {},
   "source": [
    "2. Check if Substring is Present in a Given string"
   ]
  },
  {
   "cell_type": "code",
   "execution_count": 7,
   "id": "58a9ea27",
   "metadata": {},
   "outputs": [
    {
     "name": "stdout",
     "output_type": "stream",
     "text": [
      "substring found at index:  8\n"
     ]
    }
   ],
   "source": [
    "sentence = \"my name is mayur\"\n",
    "substring = \"i\"\n",
    "\n",
    "def SearchString(substring):\n",
    "    result = sentence.find(substring)\n",
    "    if result == -1:\n",
    "        print(\"Given substrinf not found\")\n",
    "    else:\n",
    "        print(\"substring found at index: \", result)\n",
    "\n",
    "SearchString(substring)"
   ]
  },
  {
   "cell_type": "code",
   "execution_count": null,
   "id": "27e569ca",
   "metadata": {},
   "outputs": [],
   "source": []
  }
 ],
 "metadata": {
  "kernelspec": {
   "display_name": "dsa",
   "language": "python",
   "name": "python3"
  },
  "language_info": {
   "codemirror_mode": {
    "name": "ipython",
    "version": 3
   },
   "file_extension": ".py",
   "mimetype": "text/x-python",
   "name": "python",
   "nbconvert_exporter": "python",
   "pygments_lexer": "ipython3",
   "version": "3.12.7"
  }
 },
 "nbformat": 4,
 "nbformat_minor": 5
}
